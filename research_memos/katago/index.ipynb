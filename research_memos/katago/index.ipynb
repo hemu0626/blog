{
  "cells": [
    {
      "cell_type": "raw",
      "metadata": {},
      "source": [
        "---\n",
        "title: \"Memo Katago \"\n",
        "author: \"Mu He\"\n",
        "date: \"2024-08-22\"\n",
        "categories: [Go, Code, 2024]\n",
        "image: \" \"\n",
        "---"
      ],
      "id": "4c7956e1"
    },
    {
      "cell_type": "markdown",
      "metadata": {},
      "source": [
        "#### Attempt to reproduce the code\n",
        "\n",
        "https://katagotraining.org/\n",
        "\n",
        "#### Installation\n",
        "\n",
        "\n",
        "```{sh, eval=FALSE}\n",
        "py -m pip install -U katrain\n",
        "py -m katrain\n",
        "```\n",
        "\n",
        "\n",
        "#### Code Clone\n",
        "\n",
        "\n",
        "```{sh, eval=FALSE}\n",
        "git clone https://github.com/lightvector/KataGo.git\n",
        "\n",
        "cd KataGo\n",
        "\n",
        "nano src/main.cpp  # 假设你想查看 main.cpp 文件\n",
        "```\n",
        "\n",
        "\n",
        "#### Check Main\n"
      ],
      "id": "fc883f9d"
    },
    {
      "cell_type": "code",
      "metadata": {},
      "source": [
        "import os\n",
        "os.system(\"nano src/main.cpp\")"
      ],
      "id": "3ce914f4",
      "execution_count": null,
      "outputs": []
    }
  ],
  "metadata": {
    "kernelspec": {
      "display_name": "Python 3",
      "language": "python",
      "name": "python3"
    }
  },
  "nbformat": 4,
  "nbformat_minor": 5
}